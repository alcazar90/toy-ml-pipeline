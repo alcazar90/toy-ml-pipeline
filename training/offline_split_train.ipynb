{
 "cells": [
  {
   "cell_type": "code",
   "execution_count": 9,
   "id": "83a46c85-277c-4713-b276-c0ddc6de3f0d",
   "metadata": {},
   "outputs": [],
   "source": [
    "from mltrace import get_db_uri, set_db_uri, create_component, tag_component, register\n",
    "from utils import io, models\n",
    "\n",
    "import os\n",
    "import pandas as pd"
   ]
  },
  {
   "cell_type": "markdown",
   "id": "2448df0f-b54e-4029-b8a5-c302c353e9a6",
   "metadata": {},
   "source": [
    "# Develop a model offline\n",
    "\n",
    "This notebook trains a model on January 2020 data and evaluates on February 2020."
   ]
  },
  {
   "cell_type": "code",
   "execution_count": 10,
   "id": "823d554b-d2be-4a00-a258-ee390d53ed94",
   "metadata": {},
   "outputs": [],
   "source": [
    "# Params\n",
    "\n",
    "mltrace_server = '54.177.215.161'\n",
    "train_month = '2020_01'\n",
    "test_month = '2020_02'\n",
    "\n",
    "feature_columns = [\n",
    "    'pickup_weekday', 'pickup_hour', 'pickup_minute', 'work_hours',\n",
    "    'passenger_count', 'trip_distance', 'trip_time', 'trip_speed',\n",
    "    'PULocationID', 'DOLocationID', 'RatecodeID'\n",
    "]\n",
    "label_column = 'high_tip_indicator'\n",
    "\n",
    "model_params = {\n",
    "    'max_depth': 10\n",
    "}"
   ]
  },
  {
   "cell_type": "code",
   "execution_count": 3,
   "id": "151702a9-76af-48be-994c-dcaab65a0690",
   "metadata": {},
   "outputs": [],
   "source": [
    "# Create mltrace metadata\n",
    "\n",
    "set_db_uri(get_db_uri().replace('database', mltrace_server))\n",
    "\n",
    "create_component('split_dev', 'Splitting features into train and test sets. Dev/offline version', 'shreya')\n",
    "tag_component('split_dev', ['training', 'dev'])\n",
    "create_component('train_dev', 'Training a model. Dev/offline version.', 'shreya')\n",
    "tag_component('train_dev', ['training', 'dev'])"
   ]
  },
  {
   "cell_type": "markdown",
   "id": "0ee47565-d505-41e1-8503-2bbd4232bd30",
   "metadata": {},
   "source": [
    "## Split"
   ]
  },
  {
   "cell_type": "code",
   "execution_count": 5,
   "id": "27e802a3-79e4-4893-808d-0ab92aef4950",
   "metadata": {},
   "outputs": [],
   "source": [
    "# Load latest features for train and test sets\n",
    "train_df = io.load_output_df(os.path.join('features', train_month))\n",
    "test_df = io.load_output_df(os.path.join('features', test_month))\n",
    "\n",
    "# Save train and test sets. Good to save intermediate outputs!\n",
    "train_output_path = io.save_output_df(train_df, 'training/files/train', dev=True)\n",
    "test_output_path = io.save_output_df(test_df, 'training/files/test', dev=True)"
   ]
  },
  {
   "cell_type": "code",
   "execution_count": 6,
   "id": "1903bf79-3dea-46e4-b2cd-0c7f09273f3c",
   "metadata": {},
   "outputs": [
    {
     "name": "stdout",
     "output_type": "stream",
     "text": [
      "s3://toy-applied-ml-pipeline/dev/training/files/train/20210501-150521.pq\n",
      "s3://toy-applied-ml-pipeline/dev/training/files/test/20210501-150811.pq\n"
     ]
    }
   ],
   "source": [
    "print(train_output_path)\n",
    "print(test_output_path)"
   ]
  },
  {
   "cell_type": "markdown",
   "id": "f3025e98-31e6-4070-b5d6-cbae51b22d5a",
   "metadata": {},
   "source": [
    "## Train dev model"
   ]
  },
  {
   "cell_type": "code",
   "execution_count": 7,
   "id": "da6fd394-2ae3-43ac-a90e-fe0f03c92e48",
   "metadata": {},
   "outputs": [],
   "source": [
    "# Load train and test sets. Good to save intermediate outputs!\n",
    "\n",
    "train_df = io.load_output_df('training/files/train', dev=True)\n",
    "test_df = io.load_output_df('training/files/test', dev=True)"
   ]
  },
  {
   "cell_type": "code",
   "execution_count": 11,
   "id": "dc14332d-dd2b-41cf-ba63-2bb25e225f2d",
   "metadata": {},
   "outputs": [],
   "source": [
    "# Create and train model\n",
    "\n",
    "mw = models.RandomForestModelWrapper(\n",
    "    feature_columns=feature_columns, model_params=model_params)\n",
    "mw.train(train_df, label_column)"
   ]
  },
  {
   "cell_type": "code",
   "execution_count": 13,
   "id": "763bf6de-1fbb-4de8-b243-a4e900786f7d",
   "metadata": {},
   "outputs": [],
   "source": [
    "# Score model and add params to model wrapper. TODO: include MLFlow here\n",
    "\n",
    "train_score = mw.score(train_df, label_column)\n",
    "test_score = mw.score(test_df, label_column)\n",
    "mw.add_data_path('train_df', train_output_path)\n",
    "mw.add_data_path('test_df', test_output_path)\n",
    "mw.add_metric('train_f1', train_score)\n",
    "mw.add_metric('test_f1', test_score)"
   ]
  },
  {
   "cell_type": "code",
   "execution_count": 14,
   "id": "5787d96a-73e8-4633-b466-3f5dd4dcab23",
   "metadata": {},
   "outputs": [
    {
     "name": "stdout",
     "output_type": "stream",
     "text": [
      "Paths:\n",
      "{'train_df': 's3://toy-applied-ml-pipeline/dev/training/files/train/20210501-150521.pq', 'test_df': 's3://toy-applied-ml-pipeline/dev/training/files/test/20210501-150811.pq'}\n",
      "Metrics:\n",
      "{'train_f1': 0.7370630497255707, 'test_f1': 0.7190508623877429}\n",
      "            feature  importance\n",
      "0     trip_distance    0.218205\n",
      "1        RatecodeID    0.191648\n",
      "2   passenger_count    0.142927\n",
      "3         trip_time    0.129717\n",
      "4      PULocationID    0.116504\n",
      "5      DOLocationID    0.109360\n",
      "6       pickup_hour    0.062277\n",
      "7    pickup_weekday    0.020527\n",
      "8        work_hours    0.006613\n",
      "9     pickup_minute    0.001911\n",
      "10       trip_speed    0.000310\n"
     ]
    }
   ],
   "source": [
    "# Print paths, metrics, feature importances\n",
    "print('Paths:')\n",
    "print(mw.get_data_paths())\n",
    "print('Metrics:')\n",
    "print(mw.get_metrics())\n",
    "print(mw.get_feature_importances())"
   ]
  },
  {
   "cell_type": "code",
   "execution_count": 15,
   "id": "ccc5d333-9c1f-432b-b39e-e5298fe16a95",
   "metadata": {},
   "outputs": [
    {
     "name": "stdout",
     "output_type": "stream",
     "text": [
      "s3://toy-applied-ml-pipeline/dev/training/models/20210501-151804.pkl\n"
     ]
    }
   ],
   "source": [
    "# Save model\n",
    "\n",
    "output_path = mw.save('training/models', dev=True)\n",
    "print(output_path)"
   ]
  }
 ],
 "metadata": {
  "kernelspec": {
   "display_name": "Python 3",
   "language": "python",
   "name": "python3"
  },
  "language_info": {
   "codemirror_mode": {
    "name": "ipython",
    "version": 3
   },
   "file_extension": ".py",
   "mimetype": "text/x-python",
   "name": "python",
   "nbconvert_exporter": "python",
   "pygments_lexer": "ipython3",
   "version": "3.9.2"
  }
 },
 "nbformat": 4,
 "nbformat_minor": 5
}
