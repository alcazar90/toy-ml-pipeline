{
 "cells": [
  {
   "cell_type": "markdown",
   "id": "dc5d4db2",
   "metadata": {},
   "source": [
    "# Toy Machine Learning Pipeline: Exploratory Data Analysis\n",
    "\n",
    "*Last update: 04/01/2022*\n",
    "\n",
    "The present notebook introduces the current model operationalized in the machine learning pipeline. In addition, it illustrates some of the functions to load the data, then has a rapid exploratory data analysis, a review about the features generation, and how the model was fit.\n",
    "\n",
    "The machine learning task in the project, as described in the [README](https://github.com/shreyashankar/toy-ml-pipeline#ML-task-description-and-evaluation-procedure), is: \n",
    "\n",
    " > *We train* ***a model to predict whether a passenger in a NYC taxicab ride will give the driver a large tip***. *This is a binary classification task. A large tip is arbitrarily defined as greater than 20% of the total fare (before tip).* ***To evaluate the model or measure the efficacy of the model, we measure the F1 score.***\n"
   ]
  },
  {
   "cell_type": "code",
   "execution_count": 183,
   "id": "9869def0",
   "metadata": {},
   "outputs": [],
   "source": [
    "# import some functions from the module io written within utils\n",
    "from utils.io import list_files, load_output_df, read_file\n",
    "import numpy as np\n",
    "import pandas as pd\n",
    "from sklearn.model_selection import train_test_split\n",
    "from sklearn.ensemble import RandomForestClassifier\n",
    "from sklearn.metrics import f1_score, confusion_matrix, plot_confusion_matrix\n",
    "import matplotlib.pyplot as plt"
   ]
  },
  {
   "cell_type": "markdown",
   "id": "25f035a8",
   "metadata": {},
   "source": [
    "## 1. Load the data\n",
    "\n",
    "This section shows how to use two functions written in the module `utils.io` to access and load the data stored in s3 buckets.\n",
    "\n",
    "- `utils.io.list_files()` to explore each component's buckets.\n",
    "- `utils.io.load_data_df()` to read and load parquet files into pandas' dataframes."
   ]
  },
  {
   "cell_type": "markdown",
   "id": "389e06fc",
   "metadata": {},
   "source": [
    "Firstly, we can navigate and explore the data stored in S3."
   ]
  },
  {
   "cell_type": "code",
   "execution_count": 132,
   "id": "7f15a406",
   "metadata": {},
   "outputs": [
    {
     "data": {
      "text/plain": [
       "['toy-applied-ml-pipeline/test/test.pq']"
      ]
     },
     "execution_count": 132,
     "metadata": {},
     "output_type": "execute_result"
    }
   ],
   "source": [
    "list_files('test')"
   ]
  },
  {
   "cell_type": "code",
   "execution_count": 133,
   "id": "3b048cef",
   "metadata": {},
   "outputs": [
    {
     "data": {
      "text/plain": [
       "['toy-applied-ml-pipeline/dev/clean/2020_01/20210307-172352.pq',\n",
       " 'toy-applied-ml-pipeline/dev/clean/2020_01/20210414-174617.pq',\n",
       " 'toy-applied-ml-pipeline/dev/clean/2020_01/20210419-130349.pq',\n",
       " 'toy-applied-ml-pipeline/dev/clean/2020_01/20210421-155643.pq',\n",
       " 'toy-applied-ml-pipeline/dev/clean/2020_01/20210429-192900.pq']"
      ]
     },
     "execution_count": 133,
     "metadata": {},
     "output_type": "execute_result"
    }
   ],
   "source": [
    "list_files('dev/clean/2020_01')"
   ]
  },
  {
   "cell_type": "markdown",
   "id": "d2d43416",
   "metadata": {},
   "source": [
    "We will explore the data using the version `2020_01`."
   ]
  },
  {
   "cell_type": "markdown",
   "id": "0a007809",
   "metadata": {},
   "source": [
    "Now we can use the function `utils.io.load_data_df()`:"
   ]
  },
  {
   "cell_type": "code",
   "execution_count": 134,
   "id": "47d0eb6c",
   "metadata": {},
   "outputs": [],
   "source": [
    "clean01 = load_output_df('clean', version='2020_01')"
   ]
  },
  {
   "cell_type": "code",
   "execution_count": 135,
   "id": "4d158405",
   "metadata": {},
   "outputs": [
    {
     "data": {
      "text/html": [
       "<div>\n",
       "<style scoped>\n",
       "    .dataframe tbody tr th:only-of-type {\n",
       "        vertical-align: middle;\n",
       "    }\n",
       "\n",
       "    .dataframe tbody tr th {\n",
       "        vertical-align: top;\n",
       "    }\n",
       "\n",
       "    .dataframe thead th {\n",
       "        text-align: right;\n",
       "    }\n",
       "</style>\n",
       "<table border=\"1\" class=\"dataframe\">\n",
       "  <thead>\n",
       "    <tr style=\"text-align: right;\">\n",
       "      <th></th>\n",
       "      <th>VendorID</th>\n",
       "      <th>tpep_pickup_datetime</th>\n",
       "      <th>tpep_dropoff_datetime</th>\n",
       "      <th>passenger_count</th>\n",
       "      <th>trip_distance</th>\n",
       "      <th>RatecodeID</th>\n",
       "      <th>store_and_fwd_flag</th>\n",
       "      <th>PULocationID</th>\n",
       "      <th>DOLocationID</th>\n",
       "      <th>payment_type</th>\n",
       "      <th>fare_amount</th>\n",
       "      <th>extra</th>\n",
       "      <th>mta_tax</th>\n",
       "      <th>tip_amount</th>\n",
       "      <th>tolls_amount</th>\n",
       "      <th>improvement_surcharge</th>\n",
       "      <th>total_amount</th>\n",
       "      <th>congestion_surcharge</th>\n",
       "    </tr>\n",
       "  </thead>\n",
       "  <tbody>\n",
       "    <tr>\n",
       "      <th>0</th>\n",
       "      <td>2.0</td>\n",
       "      <td>2020-01-01 00:30:07</td>\n",
       "      <td>2020-01-02 00:28:18</td>\n",
       "      <td>1.0</td>\n",
       "      <td>0.35</td>\n",
       "      <td>1.0</td>\n",
       "      <td>N</td>\n",
       "      <td>166</td>\n",
       "      <td>166</td>\n",
       "      <td>1.0</td>\n",
       "      <td>3.5</td>\n",
       "      <td>0.5</td>\n",
       "      <td>0.5</td>\n",
       "      <td>0.00</td>\n",
       "      <td>0.0</td>\n",
       "      <td>0.3</td>\n",
       "      <td>4.80</td>\n",
       "      <td>0.0</td>\n",
       "    </tr>\n",
       "    <tr>\n",
       "      <th>1</th>\n",
       "      <td>2.0</td>\n",
       "      <td>2020-01-01 00:53:40</td>\n",
       "      <td>2020-01-02 00:18:40</td>\n",
       "      <td>6.0</td>\n",
       "      <td>3.96</td>\n",
       "      <td>1.0</td>\n",
       "      <td>N</td>\n",
       "      <td>246</td>\n",
       "      <td>261</td>\n",
       "      <td>1.0</td>\n",
       "      <td>17.5</td>\n",
       "      <td>0.5</td>\n",
       "      <td>0.5</td>\n",
       "      <td>4.26</td>\n",
       "      <td>0.0</td>\n",
       "      <td>0.3</td>\n",
       "      <td>27.51</td>\n",
       "      <td>2.5</td>\n",
       "    </tr>\n",
       "    <tr>\n",
       "      <th>2</th>\n",
       "      <td>2.0</td>\n",
       "      <td>2020-01-01 00:38:39</td>\n",
       "      <td>2020-01-02 00:37:22</td>\n",
       "      <td>2.0</td>\n",
       "      <td>1.03</td>\n",
       "      <td>1.0</td>\n",
       "      <td>N</td>\n",
       "      <td>114</td>\n",
       "      <td>79</td>\n",
       "      <td>1.0</td>\n",
       "      <td>6.5</td>\n",
       "      <td>0.5</td>\n",
       "      <td>0.5</td>\n",
       "      <td>2.58</td>\n",
       "      <td>0.0</td>\n",
       "      <td>0.3</td>\n",
       "      <td>12.88</td>\n",
       "      <td>2.5</td>\n",
       "    </tr>\n",
       "    <tr>\n",
       "      <th>3</th>\n",
       "      <td>2.0</td>\n",
       "      <td>2020-01-01 00:13:41</td>\n",
       "      <td>2020-01-02 00:11:35</td>\n",
       "      <td>1.0</td>\n",
       "      <td>4.35</td>\n",
       "      <td>1.0</td>\n",
       "      <td>N</td>\n",
       "      <td>263</td>\n",
       "      <td>113</td>\n",
       "      <td>2.0</td>\n",
       "      <td>15.0</td>\n",
       "      <td>0.5</td>\n",
       "      <td>0.5</td>\n",
       "      <td>0.00</td>\n",
       "      <td>0.0</td>\n",
       "      <td>0.3</td>\n",
       "      <td>18.80</td>\n",
       "      <td>2.5</td>\n",
       "    </tr>\n",
       "    <tr>\n",
       "      <th>4</th>\n",
       "      <td>2.0</td>\n",
       "      <td>2020-01-01 00:28:27</td>\n",
       "      <td>2020-01-02 00:26:48</td>\n",
       "      <td>3.0</td>\n",
       "      <td>1.67</td>\n",
       "      <td>1.0</td>\n",
       "      <td>N</td>\n",
       "      <td>161</td>\n",
       "      <td>142</td>\n",
       "      <td>2.0</td>\n",
       "      <td>13.5</td>\n",
       "      <td>0.5</td>\n",
       "      <td>0.5</td>\n",
       "      <td>0.00</td>\n",
       "      <td>0.0</td>\n",
       "      <td>0.3</td>\n",
       "      <td>17.30</td>\n",
       "      <td>2.5</td>\n",
       "    </tr>\n",
       "  </tbody>\n",
       "</table>\n",
       "</div>"
      ],
      "text/plain": [
       "   VendorID tpep_pickup_datetime tpep_dropoff_datetime  passenger_count  \\\n",
       "0       2.0  2020-01-01 00:30:07   2020-01-02 00:28:18              1.0   \n",
       "1       2.0  2020-01-01 00:53:40   2020-01-02 00:18:40              6.0   \n",
       "2       2.0  2020-01-01 00:38:39   2020-01-02 00:37:22              2.0   \n",
       "3       2.0  2020-01-01 00:13:41   2020-01-02 00:11:35              1.0   \n",
       "4       2.0  2020-01-01 00:28:27   2020-01-02 00:26:48              3.0   \n",
       "\n",
       "   trip_distance  RatecodeID store_and_fwd_flag  PULocationID  DOLocationID  \\\n",
       "0           0.35         1.0                  N           166           166   \n",
       "1           3.96         1.0                  N           246           261   \n",
       "2           1.03         1.0                  N           114            79   \n",
       "3           4.35         1.0                  N           263           113   \n",
       "4           1.67         1.0                  N           161           142   \n",
       "\n",
       "   payment_type  fare_amount  extra  mta_tax  tip_amount  tolls_amount  \\\n",
       "0           1.0          3.5    0.5      0.5        0.00           0.0   \n",
       "1           1.0         17.5    0.5      0.5        4.26           0.0   \n",
       "2           1.0          6.5    0.5      0.5        2.58           0.0   \n",
       "3           2.0         15.0    0.5      0.5        0.00           0.0   \n",
       "4           2.0         13.5    0.5      0.5        0.00           0.0   \n",
       "\n",
       "   improvement_surcharge  total_amount  congestion_surcharge  \n",
       "0                    0.3          4.80                   0.0  \n",
       "1                    0.3         27.51                   2.5  \n",
       "2                    0.3         12.88                   2.5  \n",
       "3                    0.3         18.80                   2.5  \n",
       "4                    0.3         17.30                   2.5  "
      ]
     },
     "execution_count": 135,
     "metadata": {},
     "output_type": "execute_result"
    }
   ],
   "source": [
    "clean01.head()"
   ]
  },
  {
   "cell_type": "code",
   "execution_count": 136,
   "id": "dcd83350",
   "metadata": {},
   "outputs": [
    {
     "data": {
      "text/plain": [
       "(5977829, 18)"
      ]
     },
     "execution_count": 136,
     "metadata": {},
     "output_type": "execute_result"
    }
   ],
   "source": [
    "clean01.shape"
   ]
  },
  {
   "cell_type": "code",
   "execution_count": 137,
   "id": "d3b6663c",
   "metadata": {},
   "outputs": [
    {
     "data": {
      "text/plain": [
       "VendorID                        float64\n",
       "tpep_pickup_datetime     datetime64[ns]\n",
       "tpep_dropoff_datetime    datetime64[ns]\n",
       "passenger_count                 float64\n",
       "trip_distance                   float64\n",
       "RatecodeID                      float64\n",
       "store_and_fwd_flag               object\n",
       "PULocationID                      int64\n",
       "DOLocationID                      int64\n",
       "payment_type                    float64\n",
       "fare_amount                     float64\n",
       "extra                           float64\n",
       "mta_tax                         float64\n",
       "tip_amount                      float64\n",
       "tolls_amount                    float64\n",
       "improvement_surcharge           float64\n",
       "total_amount                    float64\n",
       "congestion_surcharge            float64\n",
       "dtype: object"
      ]
     },
     "execution_count": 137,
     "metadata": {},
     "output_type": "execute_result"
    }
   ],
   "source": [
    "clean01.dtypes"
   ]
  },
  {
   "cell_type": "markdown",
   "id": "7cc33ac3",
   "metadata": {},
   "source": [
    "**Note:** You can find the codebook with the description of each column [here](https://www1.nyc.gov/assets/tlc/downloads/pdf/data_dictionary_trip_records_yellow.pdf)."
   ]
  },
  {
   "cell_type": "markdown",
   "id": "eacfd2a6",
   "metadata": {},
   "source": [
    "Explore if there are any missing values across the columns."
   ]
  },
  {
   "cell_type": "code",
   "execution_count": 138,
   "id": "99ac843e",
   "metadata": {},
   "outputs": [
    {
     "data": {
      "text/plain": [
       "VendorID                  True\n",
       "tpep_pickup_datetime     False\n",
       "tpep_dropoff_datetime    False\n",
       "passenger_count           True\n",
       "trip_distance            False\n",
       "RatecodeID                True\n",
       "store_and_fwd_flag        True\n",
       "PULocationID             False\n",
       "DOLocationID             False\n",
       "payment_type              True\n",
       "fare_amount              False\n",
       "extra                    False\n",
       "mta_tax                  False\n",
       "tip_amount               False\n",
       "tolls_amount             False\n",
       "improvement_surcharge    False\n",
       "total_amount             False\n",
       "congestion_surcharge     False\n",
       "dtype: bool"
      ]
     },
     "execution_count": 138,
     "metadata": {},
     "output_type": "execute_result"
    }
   ],
   "source": [
    "clean01.isna().any()"
   ]
  },
  {
   "cell_type": "markdown",
   "id": "1508fe4c",
   "metadata": {},
   "source": [
    "Some broad considerations, there are missing values in the columns `VendorID`, `passenger_count`, `RatecodeID`, `store_and_fwd_flag`, and `payment_type`. As well, as indicated in the *pipeline components table* on the README, the data cleaning process performed by the script `etl/cleaning.py` only consists of \"drops rows outside the time range or with $0-valued fares)\""
   ]
  },
  {
   "cell_type": "markdown",
   "id": "cfb230f5",
   "metadata": {},
   "source": [
    "## 2. Exploratory Data Analysis"
   ]
  },
  {
   "cell_type": "markdown",
   "id": "e8e2bde0",
   "metadata": {},
   "source": [
    "We will perform a quick exploratory data analysis using a smaller subset with 15% of observations from the dataset. Then we will continue with the feature generation to train the model."
   ]
  },
  {
   "cell_type": "code",
   "execution_count": 41,
   "id": "74587a81",
   "metadata": {},
   "outputs": [],
   "source": [
    "subset = clean01.sample(frac=.15)"
   ]
  },
  {
   "cell_type": "code",
   "execution_count": 45,
   "id": "ff0a817d",
   "metadata": {},
   "outputs": [
    {
     "data": {
      "text/plain": [
       "(896674, 18)"
      ]
     },
     "execution_count": 45,
     "metadata": {},
     "output_type": "execute_result"
    }
   ],
   "source": [
    "subset.shape"
   ]
  },
  {
   "cell_type": "code",
   "execution_count": 46,
   "id": "bca134ac",
   "metadata": {},
   "outputs": [
    {
     "data": {
      "text/plain": [
       "<AxesSubplot:>"
      ]
     },
     "execution_count": 46,
     "metadata": {},
     "output_type": "execute_result"
    },
    {
     "data": {
      "image/png": "[encoded data removed]",
      "text/plain": [
       "<Figure size 432x288 with 1 Axes>"
      ]
     },
     "metadata": {
      "needs_background": "light"
     },
     "output_type": "display_data"
    }
   ],
   "source": [
    "subset.passenger_count.hist(bins=7)"
   ]
  },
  {
   "cell_type": "markdown",
   "id": "570ca3af",
   "metadata": {},
   "source": [
    "**The vast majority of the trips involved one passenger.** The distribution has a right tail, and there is a minor peak in trips with four passengers that may be related to family groups."
   ]
  },
  {
   "cell_type": "markdown",
   "id": "900385a1",
   "metadata": {},
   "source": [
    "The `trip_distance` column has the elapsed trip distance reported by the taximeter."
   ]
  },
  {
   "cell_type": "code",
   "execution_count": 54,
   "id": "6d61b400",
   "metadata": {},
   "outputs": [
    {
     "data": {
      "text/plain": [
       "3.12"
      ]
     },
     "execution_count": 54,
     "metadata": {},
     "output_type": "execute_result"
    }
   ],
   "source": [
    "subset.trip_distance.mean().round(2)"
   ]
  },
  {
   "cell_type": "markdown",
   "id": "15c186be",
   "metadata": {},
   "source": [
    "A rough mean computed from the subset's `trip_distance` reports that **the average taxi trip is about 3.12 miles**.\n",
    "Aditionally, we can inspect the trip duration from the datetime columns `tpep_pickup_datetime` and `tpep_dropoff_datetime`."
   ]
  },
  {
   "cell_type": "code",
   "execution_count": 80,
   "id": "febf7917",
   "metadata": {},
   "outputs": [],
   "source": [
    "subset['trip_duration_seconds'] = (subset.tpep_dropoff_datetime - subset.tpep_pickup_datetime).dt.seconds"
   ]
  },
  {
   "cell_type": "code",
   "execution_count": 87,
   "id": "61b6d9c1",
   "metadata": {},
   "outputs": [
    {
     "data": {
      "text/plain": [
       "15.908992305639137"
      ]
     },
     "execution_count": 87,
     "metadata": {},
     "output_type": "execute_result"
    }
   ],
   "source": [
    "subset['trip_duration_seconds'].mean() / 60"
   ]
  },
  {
   "cell_type": "markdown",
   "id": "f1d0f74c",
   "metadata": {},
   "source": [
    "**The average trip duration from this sample is almost 16 minutes.**\n",
    "\n",
    "How does varies the metrics above when we consider the payment method? Given the information in the codebook we can create a categorical variable with each payment type label."
   ]
  },
  {
   "cell_type": "code",
   "execution_count": 102,
   "id": "cb14f983",
   "metadata": {},
   "outputs": [],
   "source": [
    "payment_method = pd.Categorical(subset.payment_type)\n",
    "payment_method = payment_method.rename_categories({1.0:'Credit Card', 2.0:'Cash', 3.0:'No Charge',\n",
    "                                                   4.0: 'Dispute', 5.0:'Unknown', 6.0:'Voided Trip'})"
   ]
  },
  {
   "cell_type": "code",
   "execution_count": 106,
   "id": "cab1709a",
   "metadata": {},
   "outputs": [],
   "source": [
    "subset['payment_method'] = payment_method"
   ]
  },
  {
   "cell_type": "code",
   "execution_count": 114,
   "id": "3a657fb1",
   "metadata": {},
   "outputs": [
    {
     "data": {
      "text/plain": [
       "payment_method\n",
       "Credit Card    2.872679\n",
       "Cash           2.732138\n",
       "No Charge      2.857452\n",
       "Dispute        2.988231\n",
       "Name: trip_distance, dtype: float64"
      ]
     },
     "execution_count": 114,
     "metadata": {},
     "output_type": "execute_result"
    }
   ],
   "source": [
    "subset.groupby(['payment_method']).mean()['trip_distance']"
   ]
  },
  {
   "cell_type": "markdown",
   "id": "c26d6933",
   "metadata": {},
   "source": [
    "Why is the trip distance average lower for each payment method than the aggregate average?\n",
    "\n",
    "Let's explore the missing values of trip distance that are out of the average. We can take the mean from the rows that have missing values in the payment method column."
   ]
  },
  {
   "cell_type": "code",
   "execution_count": 121,
   "id": "8ac1eb74",
   "metadata": {},
   "outputs": [
    {
     "data": {
      "text/plain": [
       "30.161012385568128"
      ]
     },
     "execution_count": 121,
     "metadata": {},
     "output_type": "execute_result"
    }
   ],
   "source": [
    "subset.loc[subset['payment_method'].isna(),'trip_distance'].mean()"
   ]
  },
  {
   "cell_type": "markdown",
   "id": "dc128735",
   "metadata": {},
   "source": [
    "The average is considerably higher than the averages by payment methods; and is evidence of outliers or some errors in the data."
   ]
  },
  {
   "cell_type": "code",
   "execution_count": 128,
   "id": "7711968a",
   "metadata": {},
   "outputs": [
    {
     "data": {
      "text/plain": [
       "210240.07"
      ]
     },
     "execution_count": 128,
     "metadata": {},
     "output_type": "execute_result"
    }
   ],
   "source": [
    "subset.loc[subset['payment_method'].isna(),'trip_distance'].max()"
   ]
  },
  {
   "cell_type": "code",
   "execution_count": 123,
   "id": "8e0472dc",
   "metadata": {},
   "outputs": [
    {
     "data": {
      "text/html": [
       "<div>\n",
       "<style scoped>\n",
       "    .dataframe tbody tr th:only-of-type {\n",
       "        vertical-align: middle;\n",
       "    }\n",
       "\n",
       "    .dataframe tbody tr th {\n",
       "        vertical-align: top;\n",
       "    }\n",
       "\n",
       "    .dataframe thead th {\n",
       "        text-align: right;\n",
       "    }\n",
       "</style>\n",
       "<table border=\"1\" class=\"dataframe\">\n",
       "  <thead>\n",
       "    <tr style=\"text-align: right;\">\n",
       "      <th></th>\n",
       "      <th>VendorID</th>\n",
       "      <th>tpep_pickup_datetime</th>\n",
       "      <th>tpep_dropoff_datetime</th>\n",
       "      <th>passenger_count</th>\n",
       "      <th>trip_distance</th>\n",
       "      <th>RatecodeID</th>\n",
       "      <th>store_and_fwd_flag</th>\n",
       "      <th>PULocationID</th>\n",
       "      <th>DOLocationID</th>\n",
       "      <th>payment_type</th>\n",
       "      <th>fare_amount</th>\n",
       "      <th>extra</th>\n",
       "      <th>mta_tax</th>\n",
       "      <th>tip_amount</th>\n",
       "      <th>tolls_amount</th>\n",
       "      <th>improvement_surcharge</th>\n",
       "      <th>total_amount</th>\n",
       "      <th>congestion_surcharge</th>\n",
       "      <th>trip_duration_seconds</th>\n",
       "      <th>payment_method</th>\n",
       "    </tr>\n",
       "  </thead>\n",
       "  <tbody>\n",
       "    <tr>\n",
       "      <th>5973185</th>\n",
       "      <td>NaN</td>\n",
       "      <td>2020-01-28 07:37:00</td>\n",
       "      <td>2020-01-28 08:42:00</td>\n",
       "      <td>NaN</td>\n",
       "      <td>210240.07</td>\n",
       "      <td>NaN</td>\n",
       "      <td>None</td>\n",
       "      <td>76</td>\n",
       "      <td>231</td>\n",
       "      <td>NaN</td>\n",
       "      <td>37.77</td>\n",
       "      <td>2.75</td>\n",
       "      <td>0.5</td>\n",
       "      <td>0.0</td>\n",
       "      <td>0.0</td>\n",
       "      <td>0.3</td>\n",
       "      <td>41.32</td>\n",
       "      <td>0.0</td>\n",
       "      <td>3900</td>\n",
       "      <td>NaN</td>\n",
       "    </tr>\n",
       "  </tbody>\n",
       "</table>\n",
       "</div>"
      ],
      "text/plain": [
       "         VendorID tpep_pickup_datetime tpep_dropoff_datetime  passenger_count  \\\n",
       "5973185       NaN  2020-01-28 07:37:00   2020-01-28 08:42:00              NaN   \n",
       "\n",
       "         trip_distance  RatecodeID store_and_fwd_flag  PULocationID  \\\n",
       "5973185      210240.07         NaN               None            76   \n",
       "\n",
       "         DOLocationID  payment_type  fare_amount  extra  mta_tax  tip_amount  \\\n",
       "5973185           231           NaN        37.77   2.75      0.5         0.0   \n",
       "\n",
       "         tolls_amount  improvement_surcharge  total_amount  \\\n",
       "5973185           0.0                    0.3         41.32   \n",
       "\n",
       "         congestion_surcharge  trip_duration_seconds payment_method  \n",
       "5973185                   0.0                   3900            NaN  "
      ]
     },
     "execution_count": 123,
     "metadata": {},
     "output_type": "execute_result"
    }
   ],
   "source": [
    "subset.loc[subset['trip_distance'] > 2e5]"
   ]
  },
  {
   "cell_type": "markdown",
   "id": "4af12f3a",
   "metadata": {},
   "source": [
    "A trip of more than 200k miles in 1 hour? \n",
    "We take notes of this for cleaning the data."
   ]
  },
  {
   "cell_type": "code",
   "execution_count": 130,
   "id": "7db180d4",
   "metadata": {},
   "outputs": [
    {
     "data": {
      "text/plain": [
       "payment_method\n",
       "Credit Card    15.711091\n",
       "Cash           16.093246\n",
       "No Charge      10.572905\n",
       "Dispute        11.219615\n",
       "Name: trip_duration_seconds, dtype: float64"
      ]
     },
     "execution_count": 130,
     "metadata": {},
     "output_type": "execute_result"
    }
   ],
   "source": [
    "subset.groupby(['payment_method']).mean()['trip_duration_seconds']/60"
   ]
  },
  {
   "cell_type": "markdown",
   "id": "cde50a54",
   "metadata": {},
   "source": [
    "**The duration by payment method is closer to the aggregate mean for credit and cash.** It makes sense to think that most of the trips fall in these two categories. On the other hand, no charge and dispute trips have a duration of around 11 minutes approximately."
   ]
  },
  {
   "cell_type": "markdown",
   "id": "46f4b3c5",
   "metadata": {},
   "source": [
    "## 3. Feature generation\n",
    "\n",
    "In this section, we explore and reproduce the featured generated by the `etl/featuregen.py` file.\n",
    "\n",
    "The file `utils/feature_generators.py` contain classes that encode the computations to generate the features for each trip used by the original model."
   ]
  },
  {
   "cell_type": "markdown",
   "id": "6a86c1d8",
   "metadata": {},
   "source": [
    "### 3.1 Compute time context features\n",
    "\n",
    "Let's start computing featurses related to the pickup times and storing all the feature columns that we will used to train the model in a dataframe."
   ]
  },
  {
   "cell_type": "code",
   "execution_count": 140,
   "id": "4260fe01",
   "metadata": {},
   "outputs": [
    {
     "data": {
      "text/html": [
       "<div>\n",
       "<style scoped>\n",
       "    .dataframe tbody tr th:only-of-type {\n",
       "        vertical-align: middle;\n",
       "    }\n",
       "\n",
       "    .dataframe tbody tr th {\n",
       "        vertical-align: top;\n",
       "    }\n",
       "\n",
       "    .dataframe thead th {\n",
       "        text-align: right;\n",
       "    }\n",
       "</style>\n",
       "<table border=\"1\" class=\"dataframe\">\n",
       "  <thead>\n",
       "    <tr style=\"text-align: right;\">\n",
       "      <th></th>\n",
       "      <th>VendorID</th>\n",
       "      <th>tpep_pickup_datetime</th>\n",
       "      <th>tpep_dropoff_datetime</th>\n",
       "      <th>passenger_count</th>\n",
       "      <th>trip_distance</th>\n",
       "      <th>RatecodeID</th>\n",
       "      <th>store_and_fwd_flag</th>\n",
       "      <th>PULocationID</th>\n",
       "      <th>DOLocationID</th>\n",
       "      <th>payment_type</th>\n",
       "      <th>fare_amount</th>\n",
       "      <th>extra</th>\n",
       "      <th>mta_tax</th>\n",
       "      <th>tip_amount</th>\n",
       "      <th>tolls_amount</th>\n",
       "      <th>improvement_surcharge</th>\n",
       "      <th>total_amount</th>\n",
       "      <th>congestion_surcharge</th>\n",
       "      <th>trip_duration_seconds</th>\n",
       "      <th>payment_method</th>\n",
       "    </tr>\n",
       "  </thead>\n",
       "  <tbody>\n",
       "    <tr>\n",
       "      <th>1966183</th>\n",
       "      <td>2.0</td>\n",
       "      <td>2020-01-12 04:09:15</td>\n",
       "      <td>2020-01-12 04:15:02</td>\n",
       "      <td>2.0</td>\n",
       "      <td>1.6</td>\n",
       "      <td>1.0</td>\n",
       "      <td>N</td>\n",
       "      <td>246</td>\n",
       "      <td>48</td>\n",
       "      <td>1.0</td>\n",
       "      <td>7.0</td>\n",
       "      <td>0.5</td>\n",
       "      <td>0.5</td>\n",
       "      <td>2.16</td>\n",
       "      <td>0.0</td>\n",
       "      <td>0.3</td>\n",
       "      <td>12.96</td>\n",
       "      <td>2.5</td>\n",
       "      <td>347</td>\n",
       "      <td>Credit Card</td>\n",
       "    </tr>\n",
       "  </tbody>\n",
       "</table>\n",
       "</div>"
      ],
      "text/plain": [
       "         VendorID tpep_pickup_datetime tpep_dropoff_datetime  passenger_count  \\\n",
       "1966183       2.0  2020-01-12 04:09:15   2020-01-12 04:15:02              2.0   \n",
       "\n",
       "         trip_distance  RatecodeID store_and_fwd_flag  PULocationID  \\\n",
       "1966183            1.6         1.0                  N           246   \n",
       "\n",
       "         DOLocationID  payment_type  fare_amount  extra  mta_tax  tip_amount  \\\n",
       "1966183            48           1.0          7.0    0.5      0.5        2.16   \n",
       "\n",
       "         tolls_amount  improvement_surcharge  total_amount  \\\n",
       "1966183           0.0                    0.3         12.96   \n",
       "\n",
       "         congestion_surcharge  trip_duration_seconds payment_method  \n",
       "1966183                   2.5                    347    Credit Card  "
      ]
     },
     "execution_count": 140,
     "metadata": {},
     "output_type": "execute_result"
    }
   ],
   "source": [
    "subset.head(n=1)"
   ]
  },
  {
   "cell_type": "markdown",
   "id": "2c3ffca6",
   "metadata": {},
   "source": [
    "We can extract different components from a datetime column:"
   ]
  },
  {
   "cell_type": "code",
   "execution_count": 141,
   "id": "f33a2545",
   "metadata": {},
   "outputs": [],
   "source": [
    "pickup_weekday = subset.tpep_pickup_datetime.dt.weekday\n",
    "pickup_hour = subset.tpep_pickup_datetime.dt.hour\n",
    "pickup_minute = subset.tpep_pickup_datetime.dt.minute"
   ]
  },
  {
   "cell_type": "markdown",
   "id": "deb08b00",
   "metadata": {},
   "source": [
    "Compute the boolean column `work_hours` that indicates `True` when there is a record within work hours from Monday to Friday. Otherwise, it gives you a `False`.\n",
    "\n",
    "Notice that the weekday's method return an integer from 0 to 6, starting from Monday."
   ]
  },
  {
   "cell_type": "code",
   "execution_count": 142,
   "id": "2794591e",
   "metadata": {},
   "outputs": [],
   "source": [
    "work_hours = (pickup_weekday >= 0) & (pickup_weekday <= 4) & (pickup_hour >= 8) & (pickup_hour <= 18)"
   ]
  },
  {
   "cell_type": "code",
   "execution_count": 143,
   "id": "15d539dd",
   "metadata": {},
   "outputs": [],
   "source": [
    "feature_df = pd.DataFrame({'pickup_weekday' : pickup_weekday,\n",
    "                           'pickup_hour' : pickup_hour,\n",
    "                           'pickup_minute' : pickup_minute,\n",
    "                           'work_hours' : work_hours})"
   ]
  },
  {
   "cell_type": "code",
   "execution_count": 144,
   "id": "fcf7c6b8",
   "metadata": {},
   "outputs": [
    {
     "data": {
      "text/html": [
       "<div>\n",
       "<style scoped>\n",
       "    .dataframe tbody tr th:only-of-type {\n",
       "        vertical-align: middle;\n",
       "    }\n",
       "\n",
       "    .dataframe tbody tr th {\n",
       "        vertical-align: top;\n",
       "    }\n",
       "\n",
       "    .dataframe thead th {\n",
       "        text-align: right;\n",
       "    }\n",
       "</style>\n",
       "<table border=\"1\" class=\"dataframe\">\n",
       "  <thead>\n",
       "    <tr style=\"text-align: right;\">\n",
       "      <th></th>\n",
       "      <th>pickup_weekday</th>\n",
       "      <th>pickup_hour</th>\n",
       "      <th>pickup_minute</th>\n",
       "      <th>work_hours</th>\n",
       "    </tr>\n",
       "  </thead>\n",
       "  <tbody>\n",
       "    <tr>\n",
       "      <th>1966183</th>\n",
       "      <td>6</td>\n",
       "      <td>4</td>\n",
       "      <td>9</td>\n",
       "      <td>False</td>\n",
       "    </tr>\n",
       "    <tr>\n",
       "      <th>3393899</th>\n",
       "      <td>5</td>\n",
       "      <td>21</td>\n",
       "      <td>11</td>\n",
       "      <td>False</td>\n",
       "    </tr>\n",
       "    <tr>\n",
       "      <th>4554098</th>\n",
       "      <td>4</td>\n",
       "      <td>17</td>\n",
       "      <td>36</td>\n",
       "      <td>True</td>\n",
       "    </tr>\n",
       "    <tr>\n",
       "      <th>1739027</th>\n",
       "      <td>5</td>\n",
       "      <td>2</td>\n",
       "      <td>7</td>\n",
       "      <td>False</td>\n",
       "    </tr>\n",
       "    <tr>\n",
       "      <th>5436053</th>\n",
       "      <td>1</td>\n",
       "      <td>22</td>\n",
       "      <td>25</td>\n",
       "      <td>False</td>\n",
       "    </tr>\n",
       "  </tbody>\n",
       "</table>\n",
       "</div>"
      ],
      "text/plain": [
       "         pickup_weekday  pickup_hour  pickup_minute  work_hours\n",
       "1966183               6            4              9       False\n",
       "3393899               5           21             11       False\n",
       "4554098               4           17             36        True\n",
       "1739027               5            2              7       False\n",
       "5436053               1           22             25       False"
      ]
     },
     "execution_count": 144,
     "metadata": {},
     "output_type": "execute_result"
    }
   ],
   "source": [
    "feature_df.head(n=5)"
   ]
  },
  {
   "cell_type": "markdown",
   "id": "6f4528ea",
   "metadata": {},
   "source": [
    "### 3.2 Compute trip metrics"
   ]
  },
  {
   "cell_type": "markdown",
   "id": "d40a5a9e",
   "metadata": {},
   "source": [
    "We will compute trip metrics such as `trip_time` and `trip_speed` and use other information in the data like passengers and trip distance to train the model."
   ]
  },
  {
   "cell_type": "code",
   "execution_count": 145,
   "id": "564b27f9",
   "metadata": {},
   "outputs": [],
   "source": [
    "trip_time = (subset.tpep_dropoff_datetime - subset.tpep_pickup_datetime).dt.seconds\n",
    "trip_speed = subset.trip_distance / (trip_time + 1e7)"
   ]
  },
  {
   "cell_type": "markdown",
   "id": "a4bbe978",
   "metadata": {},
   "source": [
    "Notice that the trip distance is divided by the trip time plus an error disturbance (i.e. `trip_time + 1e7`) for avoid dividing by 0"
   ]
  },
  {
   "cell_type": "code",
   "execution_count": 147,
   "id": "e38ded42",
   "metadata": {},
   "outputs": [],
   "source": [
    "feature_df['trip_distance'] = subset.trip_distance\n",
    "feature_df['trip_time'] = trip_time\n",
    "feature_df['trip_speed'] = trip_speed\n",
    "feature_df['passenger_count'] = subset.passenger_count"
   ]
  },
  {
   "cell_type": "code",
   "execution_count": 148,
   "id": "126ceb61",
   "metadata": {},
   "outputs": [
    {
     "data": {
      "text/html": [
       "<div>\n",
       "<style scoped>\n",
       "    .dataframe tbody tr th:only-of-type {\n",
       "        vertical-align: middle;\n",
       "    }\n",
       "\n",
       "    .dataframe tbody tr th {\n",
       "        vertical-align: top;\n",
       "    }\n",
       "\n",
       "    .dataframe thead th {\n",
       "        text-align: right;\n",
       "    }\n",
       "</style>\n",
       "<table border=\"1\" class=\"dataframe\">\n",
       "  <thead>\n",
       "    <tr style=\"text-align: right;\">\n",
       "      <th></th>\n",
       "      <th>pickup_weekday</th>\n",
       "      <th>pickup_hour</th>\n",
       "      <th>pickup_minute</th>\n",
       "      <th>work_hours</th>\n",
       "      <th>trip_distance</th>\n",
       "      <th>trip_time</th>\n",
       "      <th>trip_speed</th>\n",
       "      <th>passenger_count</th>\n",
       "    </tr>\n",
       "  </thead>\n",
       "  <tbody>\n",
       "    <tr>\n",
       "      <th>1966183</th>\n",
       "      <td>6</td>\n",
       "      <td>4</td>\n",
       "      <td>9</td>\n",
       "      <td>False</td>\n",
       "      <td>1.60</td>\n",
       "      <td>347</td>\n",
       "      <td>1.599944e-07</td>\n",
       "      <td>2.0</td>\n",
       "    </tr>\n",
       "    <tr>\n",
       "      <th>3393899</th>\n",
       "      <td>5</td>\n",
       "      <td>21</td>\n",
       "      <td>11</td>\n",
       "      <td>False</td>\n",
       "      <td>3.41</td>\n",
       "      <td>765</td>\n",
       "      <td>3.409739e-07</td>\n",
       "      <td>5.0</td>\n",
       "    </tr>\n",
       "    <tr>\n",
       "      <th>4554098</th>\n",
       "      <td>4</td>\n",
       "      <td>17</td>\n",
       "      <td>36</td>\n",
       "      <td>True</td>\n",
       "      <td>1.60</td>\n",
       "      <td>460</td>\n",
       "      <td>1.599926e-07</td>\n",
       "      <td>1.0</td>\n",
       "    </tr>\n",
       "    <tr>\n",
       "      <th>1739027</th>\n",
       "      <td>5</td>\n",
       "      <td>2</td>\n",
       "      <td>7</td>\n",
       "      <td>False</td>\n",
       "      <td>4.09</td>\n",
       "      <td>726</td>\n",
       "      <td>4.089703e-07</td>\n",
       "      <td>1.0</td>\n",
       "    </tr>\n",
       "    <tr>\n",
       "      <th>5436053</th>\n",
       "      <td>1</td>\n",
       "      <td>22</td>\n",
       "      <td>25</td>\n",
       "      <td>False</td>\n",
       "      <td>3.30</td>\n",
       "      <td>997</td>\n",
       "      <td>3.299671e-07</td>\n",
       "      <td>1.0</td>\n",
       "    </tr>\n",
       "  </tbody>\n",
       "</table>\n",
       "</div>"
      ],
      "text/plain": [
       "         pickup_weekday  pickup_hour  pickup_minute  work_hours  \\\n",
       "1966183               6            4              9       False   \n",
       "3393899               5           21             11       False   \n",
       "4554098               4           17             36        True   \n",
       "1739027               5            2              7       False   \n",
       "5436053               1           22             25       False   \n",
       "\n",
       "         trip_distance  trip_time    trip_speed  passenger_count  \n",
       "1966183           1.60        347  1.599944e-07              2.0  \n",
       "3393899           3.41        765  3.409739e-07              5.0  \n",
       "4554098           1.60        460  1.599926e-07              1.0  \n",
       "1739027           4.09        726  4.089703e-07              1.0  \n",
       "5436053           3.30        997  3.299671e-07              1.0  "
      ]
     },
     "execution_count": 148,
     "metadata": {},
     "output_type": "execute_result"
    }
   ],
   "source": [
    "feature_df.head()"
   ]
  },
  {
   "cell_type": "markdown",
   "id": "5cff12a8",
   "metadata": {},
   "source": [
    "### 3.3 Location features\n",
    "\n",
    "Finally, the dataset provides location features in which different ids give information to identify different zones, which could be helpful for the prediction task."
   ]
  },
  {
   "cell_type": "code",
   "execution_count": 151,
   "id": "72fd0a52",
   "metadata": {},
   "outputs": [],
   "source": [
    "feature_df['PULocationID'] = pd.Categorical(subset['PULocationID'])\n",
    "feature_df['DOLocationID'] = pd.Categorical(subset['DOLocationID'])\n",
    "feature_df['RatecodeID'] = pd.Categorical(subset['RatecodeID'])"
   ]
  },
  {
   "cell_type": "markdown",
   "id": "c43a8037",
   "metadata": {},
   "source": [
    "Therefore, the feature matrix it has the following columns:"
   ]
  },
  {
   "cell_type": "code",
   "execution_count": 152,
   "id": "bc22677e",
   "metadata": {},
   "outputs": [
    {
     "data": {
      "text/html": [
       "<div>\n",
       "<style scoped>\n",
       "    .dataframe tbody tr th:only-of-type {\n",
       "        vertical-align: middle;\n",
       "    }\n",
       "\n",
       "    .dataframe tbody tr th {\n",
       "        vertical-align: top;\n",
       "    }\n",
       "\n",
       "    .dataframe thead th {\n",
       "        text-align: right;\n",
       "    }\n",
       "</style>\n",
       "<table border=\"1\" class=\"dataframe\">\n",
       "  <thead>\n",
       "    <tr style=\"text-align: right;\">\n",
       "      <th></th>\n",
       "      <th>pickup_weekday</th>\n",
       "      <th>pickup_hour</th>\n",
       "      <th>pickup_minute</th>\n",
       "      <th>work_hours</th>\n",
       "      <th>trip_distance</th>\n",
       "      <th>trip_time</th>\n",
       "      <th>trip_speed</th>\n",
       "      <th>passenger_count</th>\n",
       "      <th>PULocationID</th>\n",
       "      <th>DOLocationID</th>\n",
       "      <th>RatecodeID</th>\n",
       "    </tr>\n",
       "  </thead>\n",
       "  <tbody>\n",
       "    <tr>\n",
       "      <th>1966183</th>\n",
       "      <td>6</td>\n",
       "      <td>4</td>\n",
       "      <td>9</td>\n",
       "      <td>False</td>\n",
       "      <td>1.60</td>\n",
       "      <td>347</td>\n",
       "      <td>1.599944e-07</td>\n",
       "      <td>2.0</td>\n",
       "      <td>246</td>\n",
       "      <td>48</td>\n",
       "      <td>1.0</td>\n",
       "    </tr>\n",
       "    <tr>\n",
       "      <th>3393899</th>\n",
       "      <td>5</td>\n",
       "      <td>21</td>\n",
       "      <td>11</td>\n",
       "      <td>False</td>\n",
       "      <td>3.41</td>\n",
       "      <td>765</td>\n",
       "      <td>3.409739e-07</td>\n",
       "      <td>5.0</td>\n",
       "      <td>33</td>\n",
       "      <td>256</td>\n",
       "      <td>1.0</td>\n",
       "    </tr>\n",
       "    <tr>\n",
       "      <th>4554098</th>\n",
       "      <td>4</td>\n",
       "      <td>17</td>\n",
       "      <td>36</td>\n",
       "      <td>True</td>\n",
       "      <td>1.60</td>\n",
       "      <td>460</td>\n",
       "      <td>1.599926e-07</td>\n",
       "      <td>1.0</td>\n",
       "      <td>229</td>\n",
       "      <td>236</td>\n",
       "      <td>1.0</td>\n",
       "    </tr>\n",
       "    <tr>\n",
       "      <th>1739027</th>\n",
       "      <td>5</td>\n",
       "      <td>2</td>\n",
       "      <td>7</td>\n",
       "      <td>False</td>\n",
       "      <td>4.09</td>\n",
       "      <td>726</td>\n",
       "      <td>4.089703e-07</td>\n",
       "      <td>1.0</td>\n",
       "      <td>79</td>\n",
       "      <td>263</td>\n",
       "      <td>1.0</td>\n",
       "    </tr>\n",
       "    <tr>\n",
       "      <th>5436053</th>\n",
       "      <td>1</td>\n",
       "      <td>22</td>\n",
       "      <td>25</td>\n",
       "      <td>False</td>\n",
       "      <td>3.30</td>\n",
       "      <td>997</td>\n",
       "      <td>3.299671e-07</td>\n",
       "      <td>1.0</td>\n",
       "      <td>13</td>\n",
       "      <td>234</td>\n",
       "      <td>1.0</td>\n",
       "    </tr>\n",
       "  </tbody>\n",
       "</table>\n",
       "</div>"
      ],
      "text/plain": [
       "         pickup_weekday  pickup_hour  pickup_minute  work_hours  \\\n",
       "1966183               6            4              9       False   \n",
       "3393899               5           21             11       False   \n",
       "4554098               4           17             36        True   \n",
       "1739027               5            2              7       False   \n",
       "5436053               1           22             25       False   \n",
       "\n",
       "         trip_distance  trip_time    trip_speed  passenger_count PULocationID  \\\n",
       "1966183           1.60        347  1.599944e-07              2.0          246   \n",
       "3393899           3.41        765  3.409739e-07              5.0           33   \n",
       "4554098           1.60        460  1.599926e-07              1.0          229   \n",
       "1739027           4.09        726  4.089703e-07              1.0           79   \n",
       "5436053           3.30        997  3.299671e-07              1.0           13   \n",
       "\n",
       "        DOLocationID RatecodeID  \n",
       "1966183           48        1.0  \n",
       "3393899          256        1.0  \n",
       "4554098          236        1.0  \n",
       "1739027          263        1.0  \n",
       "5436053          234        1.0  "
      ]
     },
     "execution_count": 152,
     "metadata": {},
     "output_type": "execute_result"
    }
   ],
   "source": [
    "feature_df.head()"
   ]
  },
  {
   "cell_type": "markdown",
   "id": "f13ef00a",
   "metadata": {},
   "source": [
    "## 4. Train the model\n",
    "\n",
    "**The goal is to build a binary classification model to predict high tips from the lower ones.** A high tip is defined for every trip, in which the tip amount is 20% greater than the total fare amount.\n",
    "\n",
    "As in the README said, the cutoff is arbitrary and its encode in the response variable as follows:"
   ]
  },
  {
   "cell_type": "code",
   "execution_count": 159,
   "id": "150287cc",
   "metadata": {},
   "outputs": [],
   "source": [
    "high_tip_indicator = subset.tip_amount / subset.fare_amount > .2"
   ]
  },
  {
   "cell_type": "code",
   "execution_count": 160,
   "id": "75bd3551",
   "metadata": {},
   "outputs": [
    {
     "data": {
      "text/plain": [
       "1966183     True\n",
       "3393899    False\n",
       "4554098     True\n",
       "1739027     True\n",
       "5436053     True\n",
       "           ...  \n",
       "5075594     True\n",
       "1108107     True\n",
       "2594424     True\n",
       "983202      True\n",
       "1339254    False\n",
       "Length: 896674, dtype: bool"
      ]
     },
     "execution_count": 160,
     "metadata": {},
     "output_type": "execute_result"
    }
   ],
   "source": [
    "high_tip_indicator"
   ]
  },
  {
   "cell_type": "code",
   "execution_count": 162,
   "id": "039acb2b",
   "metadata": {},
   "outputs": [
    {
     "data": {
      "text/plain": [
       "((896674, 11), (896674,))"
      ]
     },
     "execution_count": 162,
     "metadata": {},
     "output_type": "execute_result"
    }
   ],
   "source": [
    "feature_df.shape, high_tip_indicator.shape"
   ]
  },
  {
   "cell_type": "markdown",
   "id": "a2c72da9",
   "metadata": {},
   "source": [
    "The model used in production was trained using the data from the periods `2020_10` and `2020_11`. The test data was from `2020_12`. \n",
    "\n",
    "**We will use only a sample from 2020_01 data to train and test the model.** This reason aims to illustrate the training process, and the model obtained achieves a similar accuracy metric as the reported in the README."
   ]
  },
  {
   "cell_type": "markdown",
   "id": "aea45de5",
   "metadata": {},
   "source": [
    "### 4.1 Split the data\n",
    "\n",
    "Use `train_test_split` to create the training and testing datasets using 80% and 20% of the data, respectively.\n"
   ]
  },
  {
   "cell_type": "code",
   "execution_count": 163,
   "id": "38dab494",
   "metadata": {},
   "outputs": [],
   "source": [
    "X_train, X_test, y_train, y_test = train_test_split(feature_df, \n",
    "                                                    high_tip_indicator, \n",
    "                                                    test_size = .2, \n",
    "                                                    random_state = 42)"
   ]
  },
  {
   "cell_type": "markdown",
   "id": "491cc57f",
   "metadata": {},
   "source": [
    "### 4.2 Fit the current model\n",
    "\n",
    "The model is random forest classifiers which parameters are specified in `utils/models.py`."
   ]
  },
  {
   "cell_type": "code",
   "execution_count": 164,
   "id": "5b645799",
   "metadata": {},
   "outputs": [],
   "source": [
    "RANDOM_STATE = 42\n",
    "ALL_PROCESSORS = -1\n",
    "IMPUTATION_VALUE = -1.0\n",
    "model_params = { 'max_depth': 10, 'n_jobs': ALL_PROCESSORS, 'random_state': RANDOM_STATE}"
   ]
  },
  {
   "cell_type": "markdown",
   "id": "753837ab",
   "metadata": {},
   "source": [
    "Check for any missing values on the dataset before training the model."
   ]
  },
  {
   "cell_type": "code",
   "execution_count": 165,
   "id": "ed6f05c0",
   "metadata": {},
   "outputs": [
    {
     "name": "stdout",
     "output_type": "stream",
     "text": [
      "pickup_weekday  :  0\n",
      "pickup_hour  :  0\n",
      "pickup_minute  :  0\n",
      "work_hours  :  0\n",
      "trip_distance  :  0\n",
      "trip_time  :  0\n",
      "trip_speed  :  0\n",
      "passenger_count  :  1847\n",
      "PULocationID  :  0\n",
      "DOLocationID  :  0\n",
      "RatecodeID  :  1847\n"
     ]
    }
   ],
   "source": [
    "# we can count how many missing values has every column\n",
    "for col_name in X_test.columns:\n",
    "    print(col_name, ' : ', str(X_test[col_name].isna().sum()))"
   ]
  },
  {
   "cell_type": "markdown",
   "id": "e4e604f9",
   "metadata": {},
   "source": [
    "Use the `IMPUTATION_VALUE` to fill the missing values on `passenger_count` and `RatecodeID`."
   ]
  },
  {
   "cell_type": "code",
   "execution_count": 166,
   "id": "464863fd",
   "metadata": {},
   "outputs": [],
   "source": [
    "X_train.RatecodeID = X_train.RatecodeID.cat.add_categories(IMPUTATION_VALUE)\n",
    "X_train.RatecodeID = X_train.RatecodeID.fillna(IMPUTATION_VALUE)"
   ]
  },
  {
   "cell_type": "code",
   "execution_count": 167,
   "id": "d445dea1",
   "metadata": {},
   "outputs": [],
   "source": [
    "X_test.passenger_count = X_test.passenger_count.fillna(IMPUTATION_VALUE)"
   ]
  },
  {
   "cell_type": "code",
   "execution_count": 168,
   "id": "4b095601",
   "metadata": {},
   "outputs": [],
   "source": [
    "X_test.RatecodeID = X_test.RatecodeID.cat.add_categories(IMPUTATION_VALUE)\n",
    "X_test.RatecodeID = X_test.RatecodeID.fillna(IMPUTATION_VALUE)"
   ]
  },
  {
   "cell_type": "code",
   "execution_count": 169,
   "id": "154b1023",
   "metadata": {},
   "outputs": [],
   "source": [
    "X_train.passenger_count = X_train.passenger_count.fillna(IMPUTATION_VALUE)"
   ]
  },
  {
   "cell_type": "markdown",
   "id": "bec78fba",
   "metadata": {},
   "source": [
    "The imputation avoids that the training algorithm throw an error."
   ]
  },
  {
   "cell_type": "code",
   "execution_count": 170,
   "id": "73bccbeb",
   "metadata": {},
   "outputs": [],
   "source": [
    "model = RandomForestClassifier(**model_params)"
   ]
  },
  {
   "cell_type": "code",
   "execution_count": 171,
   "id": "012a519b",
   "metadata": {},
   "outputs": [
    {
     "data": {
      "text/plain": [
       "{'bootstrap': True,\n",
       " 'ccp_alpha': 0.0,\n",
       " 'class_weight': None,\n",
       " 'criterion': 'gini',\n",
       " 'max_depth': 10,\n",
       " 'max_features': 'auto',\n",
       " 'max_leaf_nodes': None,\n",
       " 'max_samples': None,\n",
       " 'min_impurity_decrease': 0.0,\n",
       " 'min_samples_leaf': 1,\n",
       " 'min_samples_split': 2,\n",
       " 'min_weight_fraction_leaf': 0.0,\n",
       " 'n_estimators': 100,\n",
       " 'n_jobs': -1,\n",
       " 'oob_score': False,\n",
       " 'random_state': 42,\n",
       " 'verbose': 0,\n",
       " 'warm_start': False}"
      ]
     },
     "execution_count": 171,
     "metadata": {},
     "output_type": "execute_result"
    }
   ],
   "source": [
    "model.get_params()"
   ]
  },
  {
   "cell_type": "markdown",
   "id": "26fc091f",
   "metadata": {},
   "source": [
    "Now we can train the model:"
   ]
  },
  {
   "cell_type": "code",
   "execution_count": 172,
   "id": "a17fede4",
   "metadata": {},
   "outputs": [
    {
     "data": {
      "text/plain": [
       "RandomForestClassifier(max_depth=10, n_jobs=-1, random_state=42)"
      ]
     },
     "execution_count": 172,
     "metadata": {},
     "output_type": "execute_result"
    }
   ],
   "source": [
    "model.fit(X_train, y_train)"
   ]
  },
  {
   "cell_type": "markdown",
   "id": "73f4ae41",
   "metadata": {},
   "source": [
    "### 4.3 Validate the model\n",
    "\n",
    "We will use the F1-score to measure the accuracy of the model.\n",
    "\n",
    "Let's check the performance in-the-sample dataset."
   ]
  },
  {
   "cell_type": "code",
   "execution_count": 177,
   "id": "cafe6319",
   "metadata": {},
   "outputs": [
    {
     "data": {
      "text/plain": [
       "0.732751447638778"
      ]
     },
     "execution_count": 177,
     "metadata": {},
     "output_type": "execute_result"
    }
   ],
   "source": [
    "y_pred = model.predict(X_train).round()\n",
    "f1_score(y_train, y_pred)"
   ]
  },
  {
   "cell_type": "markdown",
   "id": "e7087c6f",
   "metadata": {},
   "source": [
    "Now, let's check the f1-score generalization out-of-sample."
   ]
  },
  {
   "cell_type": "code",
   "execution_count": 181,
   "id": "2a4c343d",
   "metadata": {},
   "outputs": [
    {
     "data": {
      "text/plain": [
       "0.7295319097508101"
      ]
     },
     "execution_count": 181,
     "metadata": {},
     "output_type": "execute_result"
    }
   ],
   "source": [
    "y_pred = model.predict(X_test).round()\n",
    "f1_score(y_test, y_pred)"
   ]
  },
  {
   "cell_type": "markdown",
   "id": "4e1bcb41",
   "metadata": {},
   "source": [
    "**The score is pretty similar at the 71.6% reported in the [README](https://github.com/shreyashankar/toy-ml-pipeline).**"
   ]
  },
  {
   "cell_type": "code",
   "execution_count": 185,
   "id": "4603b264",
   "metadata": {},
   "outputs": [
    {
     "data": {
      "text/plain": [
       "<sklearn.metrics._plot.confusion_matrix.ConfusionMatrixDisplay at 0x7fee47c28280>"
      ]
     },
     "execution_count": 185,
     "metadata": {},
     "output_type": "execute_result"
    },
    {
     "data": {
      "image/png": "[encoded data removed]",
      "text/plain": [
       "<Figure size 432x288 with 2 Axes>"
      ]
     },
     "metadata": {
      "needs_background": "light"
     },
     "output_type": "display_data"
    }
   ],
   "source": [
    "%%capture --no-display\n",
    "plot_confusion_matrix(model, X_test, y_test)  "
   ]
  }
 ],
 "metadata": {
  "kernelspec": {
   "display_name": "Python 3 (ipykernel)",
   "language": "python",
   "name": "python3"
  },
  "language_info": {
   "codemirror_mode": {
    "name": "ipython",
    "version": 3
   },
   "file_extension": ".py",
   "mimetype": "text/x-python",
   "name": "python",
   "nbconvert_exporter": "python",
   "pygments_lexer": "ipython3",
   "version": "3.8.12"
  }
 },
 "nbformat": 4,
 "nbformat_minor": 5
}
