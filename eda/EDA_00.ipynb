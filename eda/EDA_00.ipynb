{
 "cells": [
  {
   "cell_type": "markdown",
   "id": "dc5d4db2",
   "metadata": {},
   "source": [
    "<html>\n",
    "    <leftr><span style=\"font-size: 32px\">Toy Machine Learning Pipeline</span><br><span style=\"font-size: 25px\">Exploratory Data Analysis</span></center>\n",
    "    <br>\n",
    "</html>\n",
    "\n",
    "*Last update: 11/02/2021*\n",
    "\n",
    "The present notebook is a companion analysis of the current state of the pipeline. Summarizing the data cleaning, feature generation, and how the model was fit.\n",
    "\n",
    "In the following notebooks there will be new feature exploration and model alternatives."
   ]
  },
  {
   "cell_type": "markdown",
   "id": "956405ee",
   "metadata": {},
   "source": [
    "**How to run this notebook?**\n",
    "\n",
    "```bash\n",
    "# build the image\n",
    "\n",
    "# start the container\n",
    "docker run -d -p 8888:8888 --env-file=./.env --mount type=bind,src=\"$PWD\"/eda,dst=/app/eda toy-ml-pipeline\n",
    "```"
   ]
  },
  {
   "cell_type": "code",
   "execution_count": 19,
   "id": "9869def0",
   "metadata": {},
   "outputs": [],
   "source": [
    "# import modules\n",
    "from utils.io import list_files, load_output_df\n",
    "import matplotlib.pyplot as pl\n",
    "import seaborn as sns"
   ]
  },
  {
   "cell_type": "markdown",
   "id": "25f035a8",
   "metadata": {},
   "source": [
    "## 1. Load the data\n",
    "\n",
    "How can we access to the data in buckets?\n",
    "\n",
    "In this section we will used the function written in the module `utils.io` to access the data stored in s3 buckets."
   ]
  },
  {
   "cell_type": "markdown",
   "id": "389e06fc",
   "metadata": {},
   "source": [
    "Firstly, we can use the function `utils.io.list_files()` to explore into each component's buckets."
   ]
  },
  {
   "cell_type": "code",
   "execution_count": 12,
   "id": "5e1ee214",
   "metadata": {},
   "outputs": [
    {
     "data": {
      "text/plain": [
       "['toy-applied-ml-pipeline/demo',\n",
       " 'toy-applied-ml-pipeline/dev',\n",
       " 'toy-applied-ml-pipeline/prod',\n",
       " 'toy-applied-ml-pipeline/scratch',\n",
       " 'toy-applied-ml-pipeline/test']"
      ]
     },
     "execution_count": 12,
     "metadata": {},
     "output_type": "execute_result"
    }
   ],
   "source": [
    "list_files('')"
   ]
  },
  {
   "cell_type": "code",
   "execution_count": 13,
   "id": "3aa459b8",
   "metadata": {},
   "outputs": [
    {
     "data": {
      "text/plain": [
       "['toy-applied-ml-pipeline/dev/',\n",
       " 'toy-applied-ml-pipeline/dev/clean',\n",
       " 'toy-applied-ml-pipeline/dev/clean_online',\n",
       " 'toy-applied-ml-pipeline/dev/features',\n",
       " 'toy-applied-ml-pipeline/dev/features_online',\n",
       " 'toy-applied-ml-pipeline/dev/inference',\n",
       " 'toy-applied-ml-pipeline/dev/predictions_online',\n",
       " 'toy-applied-ml-pipeline/dev/test',\n",
       " 'toy-applied-ml-pipeline/dev/test_online',\n",
       " 'toy-applied-ml-pipeline/dev/train_online',\n",
       " 'toy-applied-ml-pipeline/dev/training']"
      ]
     },
     "execution_count": 13,
     "metadata": {},
     "output_type": "execute_result"
    }
   ],
   "source": [
    "list_files('dev')"
   ]
  },
  {
   "cell_type": "code",
   "execution_count": 14,
   "id": "3b048cef",
   "metadata": {},
   "outputs": [
    {
     "data": {
      "text/plain": [
       "['toy-applied-ml-pipeline/dev/clean/',\n",
       " 'toy-applied-ml-pipeline/dev/clean/2020_01',\n",
       " 'toy-applied-ml-pipeline/dev/clean/2020_02',\n",
       " 'toy-applied-ml-pipeline/dev/clean/2020_03',\n",
       " 'toy-applied-ml-pipeline/dev/clean/2020_04',\n",
       " 'toy-applied-ml-pipeline/dev/clean/2020_05',\n",
       " 'toy-applied-ml-pipeline/dev/clean/2020_06',\n",
       " 'toy-applied-ml-pipeline/dev/clean/2020_07',\n",
       " 'toy-applied-ml-pipeline/dev/clean/2020_08',\n",
       " 'toy-applied-ml-pipeline/dev/clean/2020_09',\n",
       " 'toy-applied-ml-pipeline/dev/clean/2020_10',\n",
       " 'toy-applied-ml-pipeline/dev/clean/2020_11',\n",
       " 'toy-applied-ml-pipeline/dev/clean/2020_12',\n",
       " 'toy-applied-ml-pipeline/dev/clean/20210302-163649.pq',\n",
       " 'toy-applied-ml-pipeline/dev/clean/test.pq']"
      ]
     },
     "execution_count": 14,
     "metadata": {},
     "output_type": "execute_result"
    }
   ],
   "source": [
    "list_files('dev/clean')"
   ]
  },
  {
   "cell_type": "code",
   "execution_count": 15,
   "id": "34d8e367",
   "metadata": {},
   "outputs": [
    {
     "data": {
      "text/plain": [
       "['toy-applied-ml-pipeline/dev/clean/2020_01/20210307-172352.pq',\n",
       " 'toy-applied-ml-pipeline/dev/clean/2020_01/20210414-174617.pq',\n",
       " 'toy-applied-ml-pipeline/dev/clean/2020_01/20210419-130349.pq',\n",
       " 'toy-applied-ml-pipeline/dev/clean/2020_01/20210421-155643.pq',\n",
       " 'toy-applied-ml-pipeline/dev/clean/2020_01/20210429-192900.pq']"
      ]
     },
     "execution_count": 15,
     "metadata": {},
     "output_type": "execute_result"
    }
   ],
   "source": [
    "list_files('dev/clean/2020_01')"
   ]
  },
  {
   "cell_type": "markdown",
   "id": "0a007809",
   "metadata": {},
   "source": [
    "Secondly, the function `utils.io.load_data_df()`:"
   ]
  },
  {
   "cell_type": "code",
   "execution_count": null,
   "id": "47d0eb6c",
   "metadata": {},
   "outputs": [],
   "source": [
    "df=load_output_df('clean', version='2020_01')"
   ]
  },
  {
   "cell_type": "markdown",
   "id": "e1a80173",
   "metadata": {},
   "source": [
    "### 1.1 Load multiple periods\n",
    "\n",
    "Iterate trough different versions (i.e. `2020_01`, `2020_02`), load, and bind the data into a single dataframe."
   ]
  },
  {
   "cell_type": "markdown",
   "id": "272258cf",
   "metadata": {},
   "source": [
    "Understand the computation steps involved to clean the data performed by `etl/cleaning.py`."
   ]
  },
  {
   "cell_type": "markdown",
   "id": "cfb230f5",
   "metadata": {},
   "source": [
    "## 2. Exploratory Data Analysis"
   ]
  },
  {
   "cell_type": "markdown",
   "id": "35bab6eb",
   "metadata": {},
   "source": [
    "### 2.1 Data structure\n",
    "\n",
    "The *codebook* for this dataset is detailed in the [README.md](https://www1.nyc.gov/assets/tlc/downloads/pdf/data_dictionary_trip_records_yellow.pdf)"
   ]
  },
  {
   "cell_type": "code",
   "execution_count": null,
   "id": "bb3c16ba",
   "metadata": {},
   "outputs": [],
   "source": []
  },
  {
   "cell_type": "code",
   "execution_count": null,
   "id": "925302cc",
   "metadata": {},
   "outputs": [],
   "source": []
  },
  {
   "cell_type": "code",
   "execution_count": null,
   "id": "6b074f4d",
   "metadata": {},
   "outputs": [],
   "source": []
  },
  {
   "cell_type": "markdown",
   "id": "46f4b3c5",
   "metadata": {},
   "source": [
    "### 2.2 Feature engineering\n",
    "\n",
    "In this section, we explore and reproduce the featured generated by `etl/featuregen.py`."
   ]
  },
  {
   "cell_type": "code",
   "execution_count": null,
   "id": "4260fe01",
   "metadata": {},
   "outputs": [],
   "source": []
  },
  {
   "cell_type": "markdown",
   "id": "3d60b210",
   "metadata": {},
   "source": [
    "## 3. Model development\n",
    "\n",
    "Train the current model..."
   ]
  },
  {
   "cell_type": "markdown",
   "id": "491cc57f",
   "metadata": {},
   "source": [
    "### 3.1 Fit the current model"
   ]
  },
  {
   "cell_type": "code",
   "execution_count": null,
   "id": "73bccbeb",
   "metadata": {},
   "outputs": [],
   "source": []
  },
  {
   "cell_type": "markdown",
   "id": "9e136f86",
   "metadata": {},
   "source": [
    "### 3.2 How the model wrapper works?"
   ]
  },
  {
   "cell_type": "code",
   "execution_count": null,
   "id": "134e8a31",
   "metadata": {},
   "outputs": [],
   "source": []
  }
 ],
 "metadata": {
  "kernelspec": {
   "display_name": "Python 3 (ipykernel)",
   "language": "python",
   "name": "python3"
  },
  "language_info": {
   "codemirror_mode": {
    "name": "ipython",
    "version": 3
   },
   "file_extension": ".py",
   "mimetype": "text/x-python",
   "name": "python",
   "nbconvert_exporter": "python",
   "pygments_lexer": "ipython3",
   "version": "3.8.12"
  }
 },
 "nbformat": 4,
 "nbformat_minor": 5
}
